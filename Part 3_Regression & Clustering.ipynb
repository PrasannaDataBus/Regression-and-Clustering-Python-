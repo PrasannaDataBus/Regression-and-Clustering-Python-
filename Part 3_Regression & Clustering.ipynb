{
 "cells": [
  {
   "cell_type": "markdown",
   "metadata": {},
   "source": [
    "Python group project - ipynb n°3 - Simple and Multiple Regression & Clustering"
   ]
  },
  {
   "cell_type": "markdown",
   "metadata": {},
   "source": [
    "Note: For the regression part, we are going to use another dataset: crime_rate.xlsx\n",
    "However interesting Overwatch Analysis was, analysing the features and target of the crime rate in the US provides more relevant information, hilighted by simple and multiple regression analysis."
   ]
  },
  {
   "cell_type": "markdown",
   "metadata": {},
   "source": [
    "## 1. Simple Regression: Is there a correlation between the Crime Rate and the number of School Droppers? "
   ]
  },
  {
   "cell_type": "markdown",
   "metadata": {},
   "source": [
    "In this section, the objective is to analyse the correlation between 2 variables: Crime Rate in the US and the number of School Droppers. The purpose of this analysis is to determine the linear relationship between those 2 variables. \n",
    "We assume that:\n",
    "- Crime_Rate : Independant Variable (Feature)\n",
    "- Droppers_Rate : Dependant Variable (Target)"
   ]
  },
  {
   "cell_type": "code",
   "execution_count": 11,
   "metadata": {},
   "outputs": [
    {
     "data": {
      "text/html": [
       "<div>\n",
       "<style scoped>\n",
       "    .dataframe tbody tr th:only-of-type {\n",
       "        vertical-align: middle;\n",
       "    }\n",
       "\n",
       "    .dataframe tbody tr th {\n",
       "        vertical-align: top;\n",
       "    }\n",
       "\n",
       "    .dataframe thead th {\n",
       "        text-align: right;\n",
       "    }\n",
       "</style>\n",
       "<table border=\"1\" class=\"dataframe\">\n",
       "  <thead>\n",
       "    <tr style=\"text-align: right;\">\n",
       "      <th></th>\n",
       "      <th>City</th>\n",
       "      <th>Reported_Crime_Rate</th>\n",
       "      <th>Reported_Violent_Crime</th>\n",
       "      <th>Annual_Police_Funds</th>\n",
       "      <th>Droppers_rate</th>\n",
       "    </tr>\n",
       "  </thead>\n",
       "  <tbody>\n",
       "    <tr>\n",
       "      <th>0</th>\n",
       "      <td>City_1</td>\n",
       "      <td>478</td>\n",
       "      <td>184</td>\n",
       "      <td>40</td>\n",
       "      <td>11</td>\n",
       "    </tr>\n",
       "    <tr>\n",
       "      <th>1</th>\n",
       "      <td>City_2</td>\n",
       "      <td>494</td>\n",
       "      <td>213</td>\n",
       "      <td>32</td>\n",
       "      <td>11</td>\n",
       "    </tr>\n",
       "    <tr>\n",
       "      <th>2</th>\n",
       "      <td>City_3</td>\n",
       "      <td>643</td>\n",
       "      <td>347</td>\n",
       "      <td>57</td>\n",
       "      <td>18</td>\n",
       "    </tr>\n",
       "    <tr>\n",
       "      <th>3</th>\n",
       "      <td>City_4</td>\n",
       "      <td>341</td>\n",
       "      <td>565</td>\n",
       "      <td>31</td>\n",
       "      <td>11</td>\n",
       "    </tr>\n",
       "    <tr>\n",
       "      <th>4</th>\n",
       "      <td>City_5</td>\n",
       "      <td>773</td>\n",
       "      <td>327</td>\n",
       "      <td>67</td>\n",
       "      <td>9</td>\n",
       "    </tr>\n",
       "  </tbody>\n",
       "</table>\n",
       "</div>"
      ],
      "text/plain": [
       "     City  Reported_Crime_Rate  Reported_Violent_Crime  Annual_Police_Funds  \\\n",
       "0  City_1                  478                     184                   40   \n",
       "1  City_2                  494                     213                   32   \n",
       "2  City_3                  643                     347                   57   \n",
       "3  City_4                  341                     565                   31   \n",
       "4  City_5                  773                     327                   67   \n",
       "\n",
       "   Droppers_rate  \n",
       "0             11  \n",
       "1             11  \n",
       "2             18  \n",
       "3             11  \n",
       "4              9  "
      ]
     },
     "execution_count": 11,
     "metadata": {},
     "output_type": "execute_result"
    }
   ],
   "source": [
    "# 0. Import necessary modules #\n",
    "\n",
    "import pandas as pd\n",
    "import numpy as np\n",
    "import matplotlib.pyplot as plt\n",
    "from sklearn.linear_model import LinearRegression\n",
    "from sklearn.metrics import mean_squared_error\n",
    "from sklearn.metrics import r2_score\n",
    "\n",
    "# 1. Import the dataset from Excel #\n",
    "\n",
    "df= pd.read_excel('crime_rate.xlsx')\n",
    "\n",
    "# 2. Print the first 5 rows of the dataset #\n",
    "\n",
    "df.head()"
   ]
  },
  {
   "cell_type": "code",
   "execution_count": 12,
   "metadata": {
    "scrolled": false
   },
   "outputs": [
    {
     "data": {
      "text/html": [
       "<div>\n",
       "<style scoped>\n",
       "    .dataframe tbody tr th:only-of-type {\n",
       "        vertical-align: middle;\n",
       "    }\n",
       "\n",
       "    .dataframe tbody tr th {\n",
       "        vertical-align: top;\n",
       "    }\n",
       "\n",
       "    .dataframe thead th {\n",
       "        text-align: right;\n",
       "    }\n",
       "</style>\n",
       "<table border=\"1\" class=\"dataframe\">\n",
       "  <thead>\n",
       "    <tr style=\"text-align: right;\">\n",
       "      <th></th>\n",
       "      <th>Reported_Crime_Rate</th>\n",
       "      <th>Reported_Violent_Crime</th>\n",
       "      <th>Annual_Police_Funds</th>\n",
       "      <th>Droppers_rate</th>\n",
       "    </tr>\n",
       "    <tr>\n",
       "      <th>City</th>\n",
       "      <th></th>\n",
       "      <th></th>\n",
       "      <th></th>\n",
       "      <th></th>\n",
       "    </tr>\n",
       "  </thead>\n",
       "  <tbody>\n",
       "    <tr>\n",
       "      <th>City_1</th>\n",
       "      <td>478</td>\n",
       "      <td>184</td>\n",
       "      <td>40</td>\n",
       "      <td>11</td>\n",
       "    </tr>\n",
       "    <tr>\n",
       "      <th>City_2</th>\n",
       "      <td>494</td>\n",
       "      <td>213</td>\n",
       "      <td>32</td>\n",
       "      <td>11</td>\n",
       "    </tr>\n",
       "    <tr>\n",
       "      <th>City_3</th>\n",
       "      <td>643</td>\n",
       "      <td>347</td>\n",
       "      <td>57</td>\n",
       "      <td>18</td>\n",
       "    </tr>\n",
       "    <tr>\n",
       "      <th>City_4</th>\n",
       "      <td>341</td>\n",
       "      <td>565</td>\n",
       "      <td>31</td>\n",
       "      <td>11</td>\n",
       "    </tr>\n",
       "    <tr>\n",
       "      <th>City_5</th>\n",
       "      <td>773</td>\n",
       "      <td>327</td>\n",
       "      <td>67</td>\n",
       "      <td>9</td>\n",
       "    </tr>\n",
       "  </tbody>\n",
       "</table>\n",
       "</div>"
      ],
      "text/plain": [
       "        Reported_Crime_Rate  Reported_Violent_Crime  Annual_Police_Funds  \\\n",
       "City                                                                       \n",
       "City_1                  478                     184                   40   \n",
       "City_2                  494                     213                   32   \n",
       "City_3                  643                     347                   57   \n",
       "City_4                  341                     565                   31   \n",
       "City_5                  773                     327                   67   \n",
       "\n",
       "        Droppers_rate  \n",
       "City                   \n",
       "City_1             11  \n",
       "City_2             11  \n",
       "City_3             18  \n",
       "City_4             11  \n",
       "City_5              9  "
      ]
     },
     "execution_count": 12,
     "metadata": {},
     "output_type": "execute_result"
    }
   ],
   "source": [
    "# 3. Set Indexes #\n",
    "\n",
    "df=df.set_index('City')\n",
    "df.head()"
   ]
  },
  {
   "cell_type": "markdown",
   "metadata": {},
   "source": [
    "We can see that the Crime Rate and the Droppers Rate have a significantly different scale. In order to obtain relevant results, we are going to multiply Droppers'value by 100."
   ]
  },
  {
   "cell_type": "code",
   "execution_count": 21,
   "metadata": {},
   "outputs": [
    {
     "data": {
      "text/html": [
       "<div>\n",
       "<style scoped>\n",
       "    .dataframe tbody tr th:only-of-type {\n",
       "        vertical-align: middle;\n",
       "    }\n",
       "\n",
       "    .dataframe tbody tr th {\n",
       "        vertical-align: top;\n",
       "    }\n",
       "\n",
       "    .dataframe thead th {\n",
       "        text-align: right;\n",
       "    }\n",
       "</style>\n",
       "<table border=\"1\" class=\"dataframe\">\n",
       "  <thead>\n",
       "    <tr style=\"text-align: right;\">\n",
       "      <th></th>\n",
       "      <th>Reported_Crime_Rate</th>\n",
       "      <th>Reported_Violent_Crime</th>\n",
       "      <th>Annual_Police_Funds</th>\n",
       "      <th>Droppers_rate</th>\n",
       "    </tr>\n",
       "    <tr>\n",
       "      <th>City</th>\n",
       "      <th></th>\n",
       "      <th></th>\n",
       "      <th></th>\n",
       "      <th></th>\n",
       "    </tr>\n",
       "  </thead>\n",
       "  <tbody>\n",
       "    <tr>\n",
       "      <th>City_1</th>\n",
       "      <td>478</td>\n",
       "      <td>184</td>\n",
       "      <td>40</td>\n",
       "      <td>1100</td>\n",
       "    </tr>\n",
       "    <tr>\n",
       "      <th>City_2</th>\n",
       "      <td>494</td>\n",
       "      <td>213</td>\n",
       "      <td>32</td>\n",
       "      <td>1100</td>\n",
       "    </tr>\n",
       "    <tr>\n",
       "      <th>City_3</th>\n",
       "      <td>643</td>\n",
       "      <td>347</td>\n",
       "      <td>57</td>\n",
       "      <td>1800</td>\n",
       "    </tr>\n",
       "    <tr>\n",
       "      <th>City_4</th>\n",
       "      <td>341</td>\n",
       "      <td>565</td>\n",
       "      <td>31</td>\n",
       "      <td>1100</td>\n",
       "    </tr>\n",
       "    <tr>\n",
       "      <th>City_5</th>\n",
       "      <td>773</td>\n",
       "      <td>327</td>\n",
       "      <td>67</td>\n",
       "      <td>900</td>\n",
       "    </tr>\n",
       "  </tbody>\n",
       "</table>\n",
       "</div>"
      ],
      "text/plain": [
       "        Reported_Crime_Rate  Reported_Violent_Crime  Annual_Police_Funds  \\\n",
       "City                                                                       \n",
       "City_1                  478                     184                   40   \n",
       "City_2                  494                     213                   32   \n",
       "City_3                  643                     347                   57   \n",
       "City_4                  341                     565                   31   \n",
       "City_5                  773                     327                   67   \n",
       "\n",
       "        Droppers_rate  \n",
       "City                   \n",
       "City_1           1100  \n",
       "City_2           1100  \n",
       "City_3           1800  \n",
       "City_4           1100  \n",
       "City_5            900  "
      ]
     },
     "execution_count": 21,
     "metadata": {},
     "output_type": "execute_result"
    }
   ],
   "source": [
    "# 4. Scale the dataset #\n",
    "\n",
    "df['Droppers_rate'] = df['Droppers_rate']*100\n",
    "df.head()"
   ]
  },
  {
   "cell_type": "code",
   "execution_count": 22,
   "metadata": {},
   "outputs": [
    {
     "data": {
      "image/png": "[encoded data removed]",
      "text/plain": [
       "<Figure size 432x288 with 1 Axes>"
      ]
     },
     "metadata": {
      "needs_background": "light"
     },
     "output_type": "display_data"
    }
   ],
   "source": [
    "# 5. Define the variables: Reported Crime Rate (independant) and School Droppers (dependant)  #\n",
    "\n",
    "x= df['Reported_Crime_Rate']\n",
    "y= df['Droppers_rate']\n",
    "\n",
    "# 6. Plot the variables in a graph to observe theirs variations #\n",
    "\n",
    "plt.plot(x, c='blue') #The x axis (Reported Crime Rate) is the blue line\n",
    "plt.plot(y, c='red') #The y axis (School Droppers Rate) is in red\n",
    "plt.show()"
   ]
  },
  {
   "cell_type": "code",
   "execution_count": 23,
   "metadata": {},
   "outputs": [
    {
     "data": {
      "image/png": "[encoded data removed]",
      "text/plain": [
       "<Figure size 432x288 with 1 Axes>"
      ]
     },
     "metadata": {
      "needs_background": "light"
     },
     "output_type": "display_data"
    }
   ],
   "source": [
    "# 7. Convert variables into Numpy arrays #\n",
    "\n",
    "x=df['Reported_Crime_Rate'].values.reshape(-1,1)\n",
    "y=df['Droppers_rate'].values.reshape(-1,1)\n",
    "\n",
    "# 8. Create objects for the classes #\n",
    "\n",
    "reg= LinearRegression()\n",
    "reg.fit(x,y)\n",
    "\n",
    "y_pred=reg.predict(x)\n",
    "\n",
    "# 9. Plot the linear regression #\n",
    "\n",
    "plt.scatter(x,y, c='blue')\n",
    "plt.plot(x,y_pred, c='red')\n",
    "plt.show()"
   ]
  },
  {
   "cell_type": "code",
   "execution_count": 24,
   "metadata": {},
   "outputs": [
    {
     "name": "stdout",
     "output_type": "stream",
     "text": [
      "R-Squared is equal to:  0.10401829368952742\n",
      "Root Mean Squared Error is equal to:  564.45645958214\n"
     ]
    }
   ],
   "source": [
    "# 10. Compute R^2 and RMSE #\n",
    "\n",
    "R_squared = r2_score(y,y_pred)\n",
    "RMSE = np.sqrt(mean_squared_error(y,y_pred))\n",
    "\n",
    "print('R-Squared is equal to: ', R_squared)#The closer towards 1, the better the fit\n",
    "print('Root Mean Squared Error is equal to: ', RMSE) #The lower that value is, the better the fit"
   ]
  },
  {
   "cell_type": "markdown",
   "metadata": {},
   "source": [
    "## To conclude the n°1"
   ]
  },
  {
   "cell_type": "markdown",
   "metadata": {},
   "source": [
    "We can assume with a probability of 10% that the linear equation found represents the correlation link between our 2 variables. Given that our R^2 is low, it could mean that the Crime Rate and Droppers Rate are not strongly correlated (there is no strong influence of the number of people who dropped school on the crime rate) "
   ]
  },
  {
   "cell_type": "markdown",
   "metadata": {},
   "source": [
    "# 2. Multiple Regression"
   ]
  },
  {
   "cell_type": "markdown",
   "metadata": {},
   "source": [
    "The objective of this part is the same as the first 1, but this time there are 3 variables in the equation: \n",
    "- Crime_Rate : Independant Variable 1 (Feature)\n",
    "- Violent_Crime_Rate : Independant Variable 2 (Feature)\n",
    "- Annual_Pilice_Funds : Dependant Variable (Target)\n",
    "\n",
    "Thus, we will determine what is the correlation between the fund allocated to Police department according to the Crime and Violent Crime rate in the city. "
   ]
  },
  {
   "cell_type": "code",
   "execution_count": 25,
   "metadata": {},
   "outputs": [
    {
     "data": {
      "text/html": [
       "<div>\n",
       "<style scoped>\n",
       "    .dataframe tbody tr th:only-of-type {\n",
       "        vertical-align: middle;\n",
       "    }\n",
       "\n",
       "    .dataframe tbody tr th {\n",
       "        vertical-align: top;\n",
       "    }\n",
       "\n",
       "    .dataframe thead th {\n",
       "        text-align: right;\n",
       "    }\n",
       "</style>\n",
       "<table border=\"1\" class=\"dataframe\">\n",
       "  <thead>\n",
       "    <tr style=\"text-align: right;\">\n",
       "      <th></th>\n",
       "      <th>Reported_Crime_Rate</th>\n",
       "      <th>Reported_Violent_Crime</th>\n",
       "      <th>Annual_Police_Funds</th>\n",
       "      <th>Droppers_rate</th>\n",
       "    </tr>\n",
       "    <tr>\n",
       "      <th>City</th>\n",
       "      <th></th>\n",
       "      <th></th>\n",
       "      <th></th>\n",
       "      <th></th>\n",
       "    </tr>\n",
       "  </thead>\n",
       "  <tbody>\n",
       "    <tr>\n",
       "      <th>City_1</th>\n",
       "      <td>478</td>\n",
       "      <td>184</td>\n",
       "      <td>40</td>\n",
       "      <td>1100</td>\n",
       "    </tr>\n",
       "    <tr>\n",
       "      <th>City_2</th>\n",
       "      <td>494</td>\n",
       "      <td>213</td>\n",
       "      <td>32</td>\n",
       "      <td>1100</td>\n",
       "    </tr>\n",
       "    <tr>\n",
       "      <th>City_3</th>\n",
       "      <td>643</td>\n",
       "      <td>347</td>\n",
       "      <td>57</td>\n",
       "      <td>1800</td>\n",
       "    </tr>\n",
       "    <tr>\n",
       "      <th>City_4</th>\n",
       "      <td>341</td>\n",
       "      <td>565</td>\n",
       "      <td>31</td>\n",
       "      <td>1100</td>\n",
       "    </tr>\n",
       "    <tr>\n",
       "      <th>City_5</th>\n",
       "      <td>773</td>\n",
       "      <td>327</td>\n",
       "      <td>67</td>\n",
       "      <td>900</td>\n",
       "    </tr>\n",
       "  </tbody>\n",
       "</table>\n",
       "</div>"
      ],
      "text/plain": [
       "        Reported_Crime_Rate  Reported_Violent_Crime  Annual_Police_Funds  \\\n",
       "City                                                                       \n",
       "City_1                  478                     184                   40   \n",
       "City_2                  494                     213                   32   \n",
       "City_3                  643                     347                   57   \n",
       "City_4                  341                     565                   31   \n",
       "City_5                  773                     327                   67   \n",
       "\n",
       "        Droppers_rate  \n",
       "City                   \n",
       "City_1           1100  \n",
       "City_2           1100  \n",
       "City_3           1800  \n",
       "City_4           1100  \n",
       "City_5            900  "
      ]
     },
     "execution_count": 25,
     "metadata": {},
     "output_type": "execute_result"
    }
   ],
   "source": [
    "# 0. Import necessary modules #\n",
    "\n",
    "import pandas as pd\n",
    "import numpy as np\n",
    "import matplotlib.pyplot as plt\n",
    "from sklearn.linear_model import LinearRegression\n",
    "from sklearn.model_selection import train_test_split\n",
    "from sklearn.metrics import mean_squared_error\n",
    "from sklearn.metrics import r2_score\n",
    "\n",
    "#The dataset remain the same and is already load from part 1 \n",
    "\n",
    "# 1. Print the first 5 rows # \n",
    "\n",
    "df.head()"
   ]
  },
  {
   "cell_type": "code",
   "execution_count": 27,
   "metadata": {},
   "outputs": [
    {
     "name": "stdout",
     "output_type": "stream",
     "text": [
      "Coefficients: `\n",
      " [0.01387898 0.00984813]\n",
      "Intercept: \n",
      " 21.890606804247668\n"
     ]
    }
   ],
   "source": [
    "# 2. Define variables: Reported Crime Rate and Reported Violent Crime (independant) and Annual Police Funds (independant)\n",
    "\n",
    "X= df[['Reported_Crime_Rate','Reported_Violent_Crime']]\n",
    "Y= df['Annual_Police_Funds']\n",
    "\n",
    "# 3. Initiate the test #\n",
    "\n",
    "X_train, X_test, Y_train, Y_test= train_test_split(X,Y,test_size=0.25, random_state=0)\n",
    "\n",
    "# 4. Create objects for the classes and make them fit with the training data #\n",
    "\n",
    "reg= LinearRegression()\n",
    "reg.fit(X_train,Y_train)\n",
    "\n",
    "# 5. Compute the coefficients and the intercept #\n",
    "\n",
    "coef= reg.coef_\n",
    "inter= reg.intercept_\n",
    "print('Coefficients: `\\n', coef)\n",
    "print('Intercept: \\n', inter)\n"
   ]
  },
  {
   "cell_type": "code",
   "execution_count": 28,
   "metadata": {},
   "outputs": [
    {
     "name": "stdout",
     "output_type": "stream",
     "text": [
      "         Reported_Crime_Rate  Reported_Violent_Crime\n",
      "City                                                \n",
      "City_29                  912                    1017\n",
      "City_12                  819                     369\n",
      "City_11                  506                     137\n",
      "City_42                  815                     706\n",
      "City_3                   643                     347\n",
      "City_28                  867                     942\n",
      "City_39                  989                    1375\n",
      "City_32                  805                     989\n",
      "City_23                  623                     254\n",
      "City_5                   773                     327\n",
      "City_34                  776                     404\n",
      "City_36                  732                    1517\n",
      "City_27                  439                     448\n",
      "[44.56377673 36.89144637 30.26256176 40.15474892 34.23208788 43.20061338\n",
      " 49.15808696 42.80297881 33.03863265 35.8393922  36.63933482 46.98962409\n",
      " 32.39543756]\n"
     ]
    }
   ],
   "source": [
    "# 6. Make predictions on the testing data #\n",
    "\n",
    "Y_pred = reg.predict(X_test)\n",
    "\n",
    "print(X_test)\n",
    "print(Y_pred)"
   ]
  },
  {
   "cell_type": "code",
   "execution_count": 29,
   "metadata": {},
   "outputs": [
    {
     "name": "stdout",
     "output_type": "stream",
     "text": [
      "R-Squared is equal to:  0.10401829368952742\n",
      "Root Mean Squared Error is equal to:  14.658558304015223\n"
     ]
    }
   ],
   "source": [
    "# 7. Compute R^2 and RMSE #\n",
    "\n",
    "R_Squared = r2_score(Y_test,Y_pred)\n",
    "RMSE = np.sqrt(mean_squared_error(Y_test,Y_pred))\n",
    "\n",
    "print('R-Squared is equal to: ', R_squared)#The closer towards 1, the better the fit\n",
    "print('Root Mean Squared Error is equal to: ', RMSE) #The lower that value is, the better the fit\n"
   ]
  },
  {
   "cell_type": "markdown",
   "metadata": {},
   "source": [
    "## To conclude the n°2"
   ]
  },
  {
   "cell_type": "markdown",
   "metadata": {},
   "source": [
    "Once again, we can see that R^2 is low (only 10%), meaning that the model found does not fit accuratly the distributio of our data. Thus, the correlation between our variables is not well defined. "
   ]
  },
  {
   "cell_type": "markdown",
   "metadata": {},
   "source": [
    "# 3. Clustering"
   ]
  },
  {
   "cell_type": "markdown",
   "metadata": {},
   "source": [
    "For this part, we are going to use our initial dataset on Overwatch statistics.\n",
    "The purpose is to gather the data in differents groups to analyse the behaviours of 2 variables associated together. The variables analysed are: \n",
    "- Pick Rate\n",
    "- % of On Fire realized"
   ]
  },
  {
   "cell_type": "code",
   "execution_count": 30,
   "metadata": {},
   "outputs": [
    {
     "data": {
      "text/html": [
       "<div>\n",
       "<style scoped>\n",
       "    .dataframe tbody tr th:only-of-type {\n",
       "        vertical-align: middle;\n",
       "    }\n",
       "\n",
       "    .dataframe tbody tr th {\n",
       "        vertical-align: top;\n",
       "    }\n",
       "\n",
       "    .dataframe thead th {\n",
       "        text-align: right;\n",
       "    }\n",
       "</style>\n",
       "<table border=\"1\" class=\"dataframe\">\n",
       "  <thead>\n",
       "    <tr style=\"text-align: right;\">\n",
       "      <th></th>\n",
       "      <th>Pick_rate</th>\n",
       "      <th>On_fire</th>\n",
       "      <th>Rank</th>\n",
       "    </tr>\n",
       "  </thead>\n",
       "  <tbody>\n",
       "    <tr>\n",
       "      <th>0</th>\n",
       "      <td>10.08</td>\n",
       "      <td>7.33</td>\n",
       "      <td>All</td>\n",
       "    </tr>\n",
       "    <tr>\n",
       "      <th>1</th>\n",
       "      <td>7.40</td>\n",
       "      <td>9.59</td>\n",
       "      <td>All</td>\n",
       "    </tr>\n",
       "    <tr>\n",
       "      <th>2</th>\n",
       "      <td>6.57</td>\n",
       "      <td>1.80</td>\n",
       "      <td>All</td>\n",
       "    </tr>\n",
       "    <tr>\n",
       "      <th>3</th>\n",
       "      <td>6.18</td>\n",
       "      <td>13.16</td>\n",
       "      <td>All</td>\n",
       "    </tr>\n",
       "    <tr>\n",
       "      <th>4</th>\n",
       "      <td>5.64</td>\n",
       "      <td>7.84</td>\n",
       "      <td>All</td>\n",
       "    </tr>\n",
       "  </tbody>\n",
       "</table>\n",
       "</div>"
      ],
      "text/plain": [
       "   Pick_rate  On_fire Rank\n",
       "0      10.08     7.33  All\n",
       "1       7.40     9.59  All\n",
       "2       6.57     1.80  All\n",
       "3       6.18    13.16  All\n",
       "4       5.64     7.84  All"
      ]
     },
     "execution_count": 30,
     "metadata": {},
     "output_type": "execute_result"
    }
   ],
   "source": [
    "# 0. Import Librairies #\n",
    "\n",
    "import pandas as pd\n",
    "import matplotlib.pyplot as plt\n",
    "import numpy as np\n",
    "from sklearn.cluster import KMeans\n",
    "from sklearn.preprocessing import MinMaxScaler\n",
    "\n",
    "# 1. Read in a CSV file #\n",
    "\n",
    "df = pd.read_csv(\"overbuff.csv\", encoding = \"latin1\")\n",
    "\n",
    "# 2. Clean the table: we keep only Rank, On Fire and Pick Rate #\n",
    "\n",
    "df0 = df[['Pick_rate','On_fire','Rank',]]\n",
    "df0.head()"
   ]
  },
  {
   "cell_type": "markdown",
   "metadata": {},
   "source": [
    "We are going to focus our analysis on the players ranked Bronze only in order to provide a relevant analysis. "
   ]
  },
  {
   "cell_type": "code",
   "execution_count": 31,
   "metadata": {},
   "outputs": [
    {
     "data": {
      "text/html": [
       "<div>\n",
       "<style scoped>\n",
       "    .dataframe tbody tr th:only-of-type {\n",
       "        vertical-align: middle;\n",
       "    }\n",
       "\n",
       "    .dataframe tbody tr th {\n",
       "        vertical-align: top;\n",
       "    }\n",
       "\n",
       "    .dataframe thead th {\n",
       "        text-align: right;\n",
       "    }\n",
       "</style>\n",
       "<table border=\"1\" class=\"dataframe\">\n",
       "  <thead>\n",
       "    <tr style=\"text-align: right;\">\n",
       "      <th></th>\n",
       "      <th>Pick_rate</th>\n",
       "      <th>On_fire</th>\n",
       "    </tr>\n",
       "  </thead>\n",
       "  <tbody>\n",
       "    <tr>\n",
       "      <th>30</th>\n",
       "      <td>13.56</td>\n",
       "      <td>7.02</td>\n",
       "    </tr>\n",
       "    <tr>\n",
       "      <th>31</th>\n",
       "      <td>9.13</td>\n",
       "      <td>1.08</td>\n",
       "    </tr>\n",
       "    <tr>\n",
       "      <th>32</th>\n",
       "      <td>8.18</td>\n",
       "      <td>6.38</td>\n",
       "    </tr>\n",
       "    <tr>\n",
       "      <th>33</th>\n",
       "      <td>6.09</td>\n",
       "      <td>5.87</td>\n",
       "    </tr>\n",
       "    <tr>\n",
       "      <th>34</th>\n",
       "      <td>5.79</td>\n",
       "      <td>7.56</td>\n",
       "    </tr>\n",
       "  </tbody>\n",
       "</table>\n",
       "</div>"
      ],
      "text/plain": [
       "    Pick_rate  On_fire\n",
       "30      13.56     7.02\n",
       "31       9.13     1.08\n",
       "32       8.18     6.38\n",
       "33       6.09     5.87\n",
       "34       5.79     7.56"
      ]
     },
     "execution_count": 31,
     "metadata": {},
     "output_type": "execute_result"
    }
   ],
   "source": [
    "# 3. Sort the dataset by keeping only the players ranked Bronze #\n",
    "\n",
    "df1 = df0[df0['Rank']== 'Bronze'].drop('Rank', axis=1)\n",
    "#We clean our dataset in order to keep only the column analysed\n",
    "\n",
    "df1.head()"
   ]
  },
  {
   "cell_type": "code",
   "execution_count": 32,
   "metadata": {},
   "outputs": [
    {
     "name": "stdout",
     "output_type": "stream",
     "text": [
      "[6.815854029854093, 4.187826486493858, 2.197328228403365, 1.5928198681538936, 1.2651242997636816, 1.0054952098812493, 0.7739635078616518, 0.6291282835863774, 0.5091067127787909, 0.4408987078499186, 0.3948542738806287, 0.3461568415653056, 0.30996868297670044, 0.26681360729816894]\n"
     ]
    }
   ],
   "source": [
    "# 4. Determine the accurate number of clusters of the dataset #\n",
    "\n",
    "mms = MinMaxScaler()\n",
    "mms.fit(df1)\n",
    "data_transformed = mms.transform(df1)\n",
    "\n",
    "SSD =[] #Create an array for the Sum of Squared Distances \n",
    "\n",
    "K = range(1,15) #We assume that the number of cluster is between 1 and 15\n",
    "\n",
    "for k in K:\n",
    "    km = KMeans(n_clusters=k)\n",
    "    km = km.fit(data_transformed)\n",
    "    SSD.append(km.inertia_)\n",
    "\n",
    "print(SSD)"
   ]
  },
  {
   "cell_type": "code",
   "execution_count": 33,
   "metadata": {},
   "outputs": [
    {
     "data": {
      "image/png": "[encoded data removed]",
      "text/plain": [
       "<Figure size 432x288 with 1 Axes>"
      ]
     },
     "metadata": {
      "needs_background": "light"
     },
     "output_type": "display_data"
    }
   ],
   "source": [
    "# 5. Plot the Sum of Squared Distance to determine visually the optimal number of clusters #\n",
    "\n",
    "plt.plot(K, SSD, 'bx-', c='green')\n",
    "plt.xlabel('k')\n",
    "plt.ylabel('Sum of Squared Distances')\n",
    "plt.title('Optimal Number k of Clusters')\n",
    "plt.show()"
   ]
  },
  {
   "cell_type": "markdown",
   "metadata": {},
   "source": [
    "We can clearly see that the curve tends to become stationary around 5. We will then cluster our data in 5 differents clusters."
   ]
  },
  {
   "cell_type": "code",
   "execution_count": 34,
   "metadata": {},
   "outputs": [
    {
     "data": {
      "text/plain": [
       "array([1., 4., 1., 1., 1., 1., 2., 0., 2., 0., 3., 3., 2., 0., 0., 3., 2.,\n",
       "       3., 3., 0., 0., 0., 0., 3., 3., 0., 2., 2., 2., 2., 1., 1., 4., 1.,\n",
       "       0., 3., 0., 3., 3., 0., 0., 0., 3., 0., 0., 3., 3., 2., 2., 2., 0.,\n",
       "       0., 3., 0., 3., 3., 0., 0., 0., 0., 1., 1., 4., 1., 1., 0., 0., 0.,\n",
       "       2., 3., 0., 3., 3., 2., 2., 0., 2., 0., 2., 0., 0., 2., 0., 2., 0.,\n",
       "       2., 2., 0., 0., 2.])"
      ]
     },
     "execution_count": 34,
     "metadata": {},
     "output_type": "execute_result"
    }
   ],
   "source": [
    "# 6. Define the Variables #\n",
    "\n",
    "x = df1['Pick_rate'].values\n",
    "y = df1['On_fire'].values\n",
    "\n",
    "kmeans = KMeans(n_clusters=5).fit(df1)\n",
    "centroids = kmeans.cluster_centers_\n",
    "\n",
    "kmeans.labels_.astype(float)"
   ]
  },
  {
   "cell_type": "code",
   "execution_count": 35,
   "metadata": {},
   "outputs": [
    {
     "data": {
      "text/plain": [
       "Text(0, 0.5, 'On Fire')"
      ]
     },
     "execution_count": 35,
     "metadata": {},
     "output_type": "execute_result"
    },
    {
     "data": {
      "image/png": "[encoded data removed]",
      "text/plain": [
       "<Figure size 432x288 with 1 Axes>"
      ]
     },
     "metadata": {
      "needs_background": "light"
     },
     "output_type": "display_data"
    }
   ],
   "source": [
    "# 7. Plot the Cluster on a Scatter Plot #\n",
    "\n",
    "plt.scatter(x,y, c= kmeans.labels_.astype(float), s=40, alpha=0.5)\n",
    "plt.scatter(centroids[:,0],centroids[:,1],c='black', s=80, alpha=0.8)\n",
    "\n",
    "plt.xlabel('Pick Rate')\n",
    "plt.ylabel('On Fire')"
   ]
  },
  {
   "cell_type": "markdown",
   "metadata": {},
   "source": [
    "## To conclude the n°3"
   ]
  },
  {
   "cell_type": "markdown",
   "metadata": {},
   "source": [
    "The points in black represent the mean of all the values that belong to the cluster. \n",
    "We can see that there is one cluster which has a low on fire rate and pick rate. However, as the on fire rate inease, the pick rate is slightly increasing too, even if it's remain low. \n",
    "\n",
    "For that reason, it's hard to determine if there is a correlation between the both variables. "
   ]
  }
 ],
 "metadata": {
  "kernelspec": {
   "display_name": "Python 3",
   "language": "python",
   "name": "python3"
  },
  "language_info": {
   "codemirror_mode": {
    "name": "ipython",
    "version": 3
   },
   "file_extension": ".py",
   "mimetype": "text/x-python",
   "name": "python",
   "nbconvert_exporter": "python",
   "pygments_lexer": "ipython3",
   "version": "3.7.6"
  }
 },
 "nbformat": 4,
 "nbformat_minor": 2
}
